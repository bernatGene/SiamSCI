{
 "cells": [
  {
   "cell_type": "code",
   "execution_count": 3,
   "metadata": {},
   "outputs": [],
   "source": [
    "import cv2\n",
    "import os\n",
    "import numpy as np"
   ]
  },
  {
   "cell_type": "code",
   "execution_count": 9,
   "metadata": {},
   "outputs": [],
   "source": [
    "i = cv2.imread(\"imgs/Eurecom_103_picBG_007.jpg\")"
   ]
  },
  {
   "cell_type": "code",
   "execution_count": 18,
   "metadata": {},
   "outputs": [
    {
     "data": {
      "text/plain": [
       "array([[2, 2, 2]])"
      ]
     },
     "execution_count": 18,
     "metadata": {},
     "output_type": "execute_result"
    }
   ],
   "source": [
    "a = np.array(([2, 2, 2],[2, 2, 2],[2, 2, 2]))\n",
    "a[0:1][0:1]"
   ]
  },
  {
   "cell_type": "code",
   "execution_count": 21,
   "metadata": {},
   "outputs": [],
   "source": [
    "ids = {}\n",
    "for img in os.scandir(\"imgs\"):\n",
    "    if (img.path.endswith(\".jpg\")):\n",
    "        i = cv2.imread(img.path)\n",
    "        im_h, im_w, _ = i.shape \n",
    "        i_p = i[int((im_h/2)-128):int((im_h/2)+128), int((im_w/2)-128):int((im_w/2)+128), :]\n",
    "        ip_h, ip_w, _ = i_p.shape \n",
    "        student_id = 's' + img.name.split('_')[1]\n",
    "        s_path = \"processed_imgs/\" + student_id\n",
    "        try:\n",
    "            os.mkdir(\"processed_imgs/\" + student_id)\n",
    "        except OSError as error:\n",
    "            if (error.errno != 17) : print(e)\n",
    "        cv2.imwrite(os.path.join(s_path, img.name), i_p)\n",
    "        "
   ]
  },
  {
   "cell_type": "code",
   "execution_count": 22,
   "metadata": {},
   "outputs": [
    {
     "name": "stdout",
     "output_type": "stream",
     "text": [
      "12K\t./.ipynb_checkpoints\n",
      "2.5G\t./imgs\n",
      "14M\t./processed_imgs\n",
      "2.5G\t.\n"
     ]
    }
   ],
   "source": [
    "!du -h -d1"
   ]
  }
 ],
 "metadata": {
  "kernelspec": {
   "display_name": "Python 3",
   "language": "python",
   "name": "python3"
  },
  "language_info": {
   "codemirror_mode": {
    "name": "ipython",
    "version": 3
   },
   "file_extension": ".py",
   "mimetype": "text/x-python",
   "name": "python",
   "nbconvert_exporter": "python",
   "pygments_lexer": "ipython3",
   "version": "3.8.5"
  }
 },
 "nbformat": 4,
 "nbformat_minor": 4
}
