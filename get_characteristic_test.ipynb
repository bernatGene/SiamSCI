{
 "cells": [
  {
   "cell_type": "code",
   "execution_count": null,
   "metadata": {},
   "outputs": [],
   "source": [
    "import os\n",
    "import numpy as np\n",
    "import random as rng\n",
    "import cv2\n",
    "import json\n",
    "import math\n",
    "import pywt\n",
    "from scipy.misc import face\n",
    "from scipy.signal.signaltools import wiener\n",
    "import matplotlib.pyplot as plt"
   ]
  },
  {
   "cell_type": "raw",
   "metadata": {},
   "source": [
    "out_datadir = \"/home/data/strips_socrates\""
   ]
  },
  {
   "cell_type": "code",
   "execution_count": null,
   "metadata": {},
   "outputs": [],
   "source": [
    "out_datadir = \"/tf/studprojskrabec/images/strips_socrates\""
   ]
  },
  {
   "cell_type": "code",
   "execution_count": null,
   "metadata": {},
   "outputs": [],
   "source": [
    "info_data = []\n",
    "with open(os.path.join(out_datadir, 'dataset_info.json')) as f:\n",
    "    info_data = json.load(f)"
   ]
  },
  {
   "cell_type": "code",
   "execution_count": null,
   "metadata": {},
   "outputs": [],
   "source": [
    "STRIP_SIZE = 256\n",
    "DENOISE_SIGMA = 5"
   ]
  },
  {
   "cell_type": "code",
   "execution_count": null,
   "metadata": {},
   "outputs": [],
   "source": [
    "def denoise_coefficient_list(coefficient_list, sigma):\n",
    "    ll = coefficient_list[0]\n",
    "    denoised_bands = [ll]\n",
    "    for band, subband_coefficients in enumerate(coefficient_list[1 :]):\n",
    "        denoised_bands.append([wiener(s.astype(np.float), sigma)\n",
    "                               for s in subband_coefficients])\n",
    "    return denoised_bands\n"
   ]
  },
  {
   "cell_type": "code",
   "execution_count": null,
   "metadata": {},
   "outputs": [],
   "source": [
    "def get_residual(grayscale_matrix):\n",
    "    dyad_length = math.ceil(math.log(STRIP_SIZE, 2))\n",
    "    ll_levels = 5\n",
    "    wavelet_levels = dyad_length - ll_levels\n",
    "    ll_size = 2 ** ll_levels\n",
    "    coefficient_list = pywt.wavedec2(grayscale_matrix,\n",
    "                                       'db8',\n",
    "                                       level = int(wavelet_levels),\n",
    "                                       mode = 'per')\n",
    "    coefficient_list = denoise_coefficient_list(coefficient_list,\n",
    "                                                  DENOISE_SIGMA)\n",
    "    denoised_tile = pywt.waverec2(coefficient_list,\n",
    "                                    'db8',\n",
    "                                    mode = 'per')\n",
    "    denoised_tile[denoised_tile > 255.0] = 255.0\n",
    "    denoised_tile[denoised_tile < 0.0] = 0.0\n",
    "    return (denoised_tile, grayscale_matrix - denoised_tile)\n"
   ]
  },
  {
   "cell_type": "code",
   "execution_count": null,
   "metadata": {},
   "outputs": [],
   "source": [
    "def get_final(denoised, residual):\n",
    "    a = denoised * residual\n",
    "    b = denoised * denoised\n",
    "    return(np.divide(a, b, out=np.zeros_like(a), where=b!=0))"
   ]
  },
  {
   "cell_type": "code",
   "execution_count": null,
   "metadata": {},
   "outputs": [],
   "source": [
    "def get_final_from_path(img_path):\n",
    "    img = cv2.imread(img_path)\n",
    "    gimg = cv2.cvtColor(img, cv2.COLOR_BGR2GRAY)\n",
    "    den, res = get_residual(gimg)\n",
    "    return (get_final(den, res))"
   ]
  },
  {
   "cell_type": "code",
   "execution_count": null,
   "metadata": {},
   "outputs": [],
   "source": [
    "def normalize_median_dev_cut(mat, low, high, dev_cut):\n",
    "    med = np.median(mat)\n",
    "    dev = (mat - med)\n",
    "    mdev = np.median(np.abs(dev))\n",
    "    mat[mat > med+mdev*dev_cut] = med + mdev * dev_cut\n",
    "    mat[mat < med-mdev*dev_cut] = med - mdev * dev_cut\n",
    "    cv2.normalize(mat, mat, low, high, cv2.NORM_MINMAX)\n",
    "                  "
   ]
  },
  {
   "cell_type": "code",
   "execution_count": null,
   "metadata": {},
   "outputs": [],
   "source": [
    "def get_final_from_path_channel(img_path):\n",
    "    img = cv2.imread(img_path)\n",
    "    if img is None:\n",
    "        print(\"Error reading image:\", img_path)\n",
    "        return \n",
    "    _, _, c = img.shape\n",
    "    for channel in range(c):\n",
    "        gimg = img[:,:,channel]\n",
    "        den, res = get_residual(gimg)\n",
    "        gimg = (get_final(den, res))\n",
    "        normalize_median_dev_cut(gimg, 0, 255, 5)\n",
    "        img[:,:,channel] = gimg\n",
    "    return img"
   ]
  },
  {
   "cell_type": "code",
   "execution_count": null,
   "metadata": {},
   "outputs": [],
   "source": [
    "def transform_dataset():\n",
    "    stds = len(info_data)\n",
    "    for i, std in enumerate(info_data):\n",
    "        print(i, \" of \", stds, std[0][0])\n",
    "        for img in std:\n",
    "            for strip in img[1]:\n",
    "                fin = get_final_from_path_channel(strip)\n",
    "                fin = fin.astype(int)\n",
    "                cv2.imwrite(strip, fin)            "
   ]
  },
  {
   "cell_type": "code",
   "execution_count": null,
   "metadata": {},
   "outputs": [],
   "source": [
    "transform_dataset()"
   ]
  }
 ],
 "metadata": {
  "kernelspec": {
   "display_name": "Python 3",
   "language": "python",
   "name": "python3"
  },
  "language_info": {
   "codemirror_mode": {
    "name": "ipython",
    "version": 3
   },
   "file_extension": ".py",
   "mimetype": "text/x-python",
   "name": "python",
   "nbconvert_exporter": "python",
   "pygments_lexer": "ipython3",
   "version": "3.6.9"
  }
 },
 "nbformat": 4,
 "nbformat_minor": 4
}
