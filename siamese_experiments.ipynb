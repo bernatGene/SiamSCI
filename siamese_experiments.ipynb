{
 "cells": [
  {
   "cell_type": "code",
   "execution_count": 2,
   "metadata": {},
   "outputs": [],
   "source": [
    "import os\n",
    "import numpy as np\n",
    "import cv2\n",
    "import random as rng"
   ]
  },
  {
   "cell_type": "markdown",
   "metadata": {},
   "source": [
    "### Define dataset structure\n",
    "\n",
    "The initial idea is to save the images whole, and let a get_batch function do the cutting and pairing when creating the batch. The strcuture of the dataset is going to be as follows:\n",
    "\n",
    "* images\n",
    "    * train\n",
    "        * s000 (infered by the names of the images)\n",
    "            * s000img1 (actually original name of the image)\n",
    "            * s000img2\n",
    "            * ...\n",
    "        * S001 \n",
    "            * etc.\n",
    "    * valid\n",
    "        * s700\n",
    "            * etc.\n",
    "    * test\n",
    "        * s999\n",
    "            * etc.\n",
    "\n",
    "For now, i will skip this structure creation and just assume it, for the experimenting enviroment, I will upload a few pictures and manually define this structure, and just work with train."
   ]
  },
  {
   "cell_type": "code",
   "execution_count": 3,
   "metadata": {},
   "outputs": [
    {
     "name": "stdout",
     "output_type": "stream",
     "text": [
      "/home/projects/marss-ml-jupylab/src/eurecom/studprojskrabec\n"
     ]
    }
   ],
   "source": [
    "!pwd"
   ]
  },
  {
   "cell_type": "code",
   "execution_count": 16,
   "metadata": {},
   "outputs": [],
   "source": [
    "STRIP_SIZE = 256"
   ]
  },
  {
   "cell_type": "markdown",
   "metadata": {},
   "source": [
    "Right now im storing the images whole. With the strips dictionary, given a strip we can get the image location and the pixels of the strip.\n",
    "However, in practice, this means that an image may be read multiple times when generating batches, also, it means that we read a whole big-ass image, while only needing a small part of it. A better approach would be to store the strips already as separate images beforehand, which unfortunately may increase the dataset size."
   ]
  },
  {
   "cell_type": "code",
   "execution_count": 25,
   "metadata": {},
   "outputs": [],
   "source": [
    "def get_dataset(base_path = \"images\", s = \"train\", strips_device = 4, strip_size = 256):\n",
    "    devices = {}\n",
    "    strips = {}\n",
    "    s_path = os.path.join(base_path, s)\n",
    "    strip_num = 0\n",
    "    for device in os.scandir(s_path):\n",
    "        if len(device.name) != 3:\n",
    "            continue\n",
    "        d_num = int(device.name)\n",
    "        devices[d_num] = device.path\n",
    "#        imgs = os.listdir(device)\n",
    "        for strip in range(strips_device): #I'm only taking 4 strips for image. (top-left 4) and assuming I always can \n",
    "            x = strip * strip_size         #Better logic should be impl. to get the max. amount of strips per img size\n",
    "            y = 0                        \n",
    "            strips[strip_num] = (d_num, x, y)\n",
    "            strip_num += 1\n",
    "    return devices, strips"
   ]
  },
  {
   "cell_type": "code",
   "execution_count": 31,
   "metadata": {},
   "outputs": [],
   "source": [
    "d, s = get_dataset()"
   ]
  },
  {
   "cell_type": "code",
   "execution_count": 32,
   "metadata": {},
   "outputs": [
    {
     "name": "stdout",
     "output_type": "stream",
     "text": [
      "{0: (101, 0, 0), 1: (101, 256, 0), 2: (101, 512, 0), 3: (101, 768, 0), 4: (100, 0, 0), 5: (100, 256, 0), 6: (100, 512, 0), 7: (100, 768, 0), 8: (102, 0, 0), 9: (102, 256, 0), 10: (102, 512, 0), 11: (102, 768, 0)}\n",
      "{101: 'images/train/101', 100: 'images/train/100', 102: 'images/train/102'}\n"
     ]
    }
   ],
   "source": [
    "print(s)\n",
    "print(d)"
   ]
  },
  {
   "cell_type": "code",
   "execution_count": 119,
   "metadata": {},
   "outputs": [],
   "source": [
    "def get_batch(batch_size, devices, strips, imgids = False):\n",
    "    #choose at random some categories (category = strip location of a given device)\n",
    "    categories = rng.sample(range(0, len(strips)), k=batch_size)\n",
    "    \n",
    "    pairs = [np.zeros((batch_size, STRIP_SIZE, STRIP_SIZE, 3)) for i in range(2)]\n",
    "    labels = np.zeros((batch_size, ))\n",
    "    ids = []\n",
    "    \n",
    "    #the first half of the batch will be positive examples and the second negative\n",
    "    labels[batch_size//2:] = 1\n",
    "    for i in range(batch_size):\n",
    "        cat = categories[i]\n",
    "        x = strips[cat][1] # x position of the strip\n",
    "        y = strips[cat][2] # y position of the strip\n",
    "        imgs_paths = [os.path.join(devices[strips[cat][0]], l) for l in os.listdir(devices[strips[cat][0]])]\n",
    "        if i >= batch_size // 2:\n",
    "            idxs = rng.sample(range(0, len(imgs_paths)-1), k=2)\n",
    "            img1 = cv2.imread(imgs_paths[idxs[0]])\n",
    "            img2 = cv2.imread(imgs_paths[idxs[1]])\n",
    "            pairs[0][i,:,:,:] = img1[x:x+STRIP_SIZE, y:y+STRIP_SIZE, :]\n",
    "            pairs[1][i,:,:,:] = img2[x:x+STRIP_SIZE, y:y+STRIP_SIZE, :]\n",
    "            ids.append((imgs_paths[idxs[0]], cat, imgs_paths[idxs[1]], cat))\n",
    "        else :\n",
    "            idx1 = rng.randint(0, len(imgs_paths)-1)\n",
    "            cat2 = (cat + rng.randint(1, len(categories))) % len(categories) # we ensure that is a different category\n",
    "            x2 = strips[cat2][1]\n",
    "            y2 = strips[cat2][2]            \n",
    "            imgs_paths2 = [os.path.join(devices[strips[cat2][0]], l) for l in os.listdir(devices[strips[cat2][0]])]\n",
    "            idx2 = rng.randint(0, len(imgs_paths2)-1)\n",
    "            img1 = cv2.imread(imgs_paths[idx1])\n",
    "            img2 = cv2.imread(imgs_paths2[idx2])\n",
    "            pairs[0][i,:,:,:] = img1[x:x+STRIP_SIZE, y:y+STRIP_SIZE, :]\n",
    "            pairs[1][i,:,:,:] = img2[x2:x2+STRIP_SIZE, y2:y2+STRIP_SIZE, :]\n",
    "            ids.append((imgs_paths[idx1], cat, imgs_paths[idx2], cat2))\n",
    "            \n",
    "    if imgids:\n",
    "        return pairs, labels, ids\n",
    "    return pairs, labels"
   ]
  },
  {
   "cell_type": "code",
   "execution_count": 72,
   "metadata": {},
   "outputs": [],
   "source": [
    "import matplotlib.pyplot as plt"
   ]
  },
  {
   "cell_type": "code",
   "execution_count": 128,
   "metadata": {},
   "outputs": [
    {
     "ename": "TypeError",
     "evalue": "must be str, not numpy.float64",
     "output_type": "error",
     "traceback": [
      "\u001b[0;31m---------------------------------------------------------------------------\u001b[0m",
      "\u001b[0;31mTypeError\u001b[0m                                 Traceback (most recent call last)",
      "\u001b[0;32m<ipython-input-128-c18c9a8157b7>\u001b[0m in \u001b[0;36m<module>\u001b[0;34m\u001b[0m\n\u001b[1;32m      2\u001b[0m \u001b[0;32mfor\u001b[0m \u001b[0mix\u001b[0m\u001b[0;34m,\u001b[0m \u001b[0mi\u001b[0m  \u001b[0;32min\u001b[0m \u001b[0menumerate\u001b[0m\u001b[0;34m(\u001b[0m\u001b[0mids\u001b[0m\u001b[0;34m)\u001b[0m\u001b[0;34m:\u001b[0m\u001b[0;34m\u001b[0m\u001b[0;34m\u001b[0m\u001b[0m\n\u001b[1;32m      3\u001b[0m     \u001b[0mf\u001b[0m\u001b[0;34m,\u001b[0m \u001b[0max\u001b[0m \u001b[0;34m=\u001b[0m \u001b[0mplt\u001b[0m\u001b[0;34m.\u001b[0m\u001b[0msubplots\u001b[0m\u001b[0;34m(\u001b[0m\u001b[0;36m1\u001b[0m\u001b[0;34m,\u001b[0m\u001b[0;36m2\u001b[0m\u001b[0;34m)\u001b[0m\u001b[0;34m\u001b[0m\u001b[0;34m\u001b[0m\u001b[0m\n\u001b[0;32m----> 4\u001b[0;31m     \u001b[0mf\u001b[0m\u001b[0;34m.\u001b[0m\u001b[0msuptitle\u001b[0m\u001b[0;34m(\u001b[0m\u001b[0;34m\"Pair\"\u001b[0m \u001b[0;34m+\u001b[0m \u001b[0mlabels\u001b[0m\u001b[0;34m[\u001b[0m\u001b[0mix\u001b[0m\u001b[0;34m]\u001b[0m \u001b[0;34m)\u001b[0m\u001b[0;34m\u001b[0m\u001b[0;34m\u001b[0m\u001b[0m\n\u001b[0m\u001b[1;32m      5\u001b[0m     \u001b[0max\u001b[0m\u001b[0;34m[\u001b[0m\u001b[0;36m0\u001b[0m\u001b[0;34m]\u001b[0m\u001b[0;34m.\u001b[0m\u001b[0mimshow\u001b[0m\u001b[0;34m(\u001b[0m\u001b[0mpairs\u001b[0m\u001b[0;34m[\u001b[0m\u001b[0;36m0\u001b[0m\u001b[0;34m]\u001b[0m\u001b[0;34m[\u001b[0m\u001b[0mix\u001b[0m\u001b[0;34m,\u001b[0m\u001b[0;34m:\u001b[0m\u001b[0;34m,\u001b[0m\u001b[0;34m:\u001b[0m\u001b[0;34m,\u001b[0m\u001b[0;34m:\u001b[0m\u001b[0;34m:\u001b[0m\u001b[0;34m-\u001b[0m\u001b[0;36m1\u001b[0m\u001b[0;34m]\u001b[0m\u001b[0;34m/\u001b[0m\u001b[0;36m255\u001b[0m\u001b[0;34m)\u001b[0m\u001b[0;34m\u001b[0m\u001b[0;34m\u001b[0m\u001b[0m\n\u001b[1;32m      6\u001b[0m     \u001b[0mtitle\u001b[0m \u001b[0;34m=\u001b[0m \u001b[0mstr\u001b[0m\u001b[0;34m(\u001b[0m\u001b[0ms\u001b[0m\u001b[0;34m[\u001b[0m\u001b[0mi\u001b[0m\u001b[0;34m[\u001b[0m\u001b[0;36m1\u001b[0m\u001b[0;34m]\u001b[0m\u001b[0;34m]\u001b[0m\u001b[0;34m)\u001b[0m \u001b[0;34m+\u001b[0m \u001b[0;34m\"\\n\"\u001b[0m \u001b[0;34m+\u001b[0m  \u001b[0mi\u001b[0m\u001b[0;34m[\u001b[0m\u001b[0;36m0\u001b[0m\u001b[0;34m]\u001b[0m\u001b[0;34m.\u001b[0m\u001b[0msplit\u001b[0m\u001b[0;34m(\u001b[0m\u001b[0;34m'/'\u001b[0m\u001b[0;34m)\u001b[0m\u001b[0;34m[\u001b[0m\u001b[0;34m-\u001b[0m\u001b[0;36m1\u001b[0m\u001b[0;34m]\u001b[0m\u001b[0;34m\u001b[0m\u001b[0;34m\u001b[0m\u001b[0m\n",
      "\u001b[0;31mTypeError\u001b[0m: must be str, not numpy.float64"
     ]
    },
    {
     "data": {
      "image/png": "[encoded data removed]",
      "text/plain": [
       "<Figure size 432x288 with 2 Axes>"
      ]
     },
     "metadata": {
      "needs_background": "light"
     },
     "output_type": "display_data"
    }
   ],
   "source": [
    "pairs, labels, ids = get_batch(4,d ,s, True)\n",
    "for ix, i  in enumerate(ids):\n",
    "    f, ax = plt.subplots(1,2)\n",
    "    f.suptitle(\"Pair\" + str(labels[ix]) )\n",
    "    ax[0].imshow(pairs[0][ix,:,:,::-1]/255)\n",
    "    title = str(s[i[1]]) + \"\\n\" +  i[0].split('/')[-1] \n",
    "    ax[0].set_title(title)\n",
    "    ax[1].imshow(pairs[1][ix,:,:,::-1]/255)\n",
    "    title = str(s[i[3]]) + \"\\n\" +  i[2].split('/')[-1] \n",
    "    ax[1].set_title(title)"
   ]
  }
 ],
 "metadata": {
  "kernelspec": {
   "display_name": "Python 3",
   "language": "python",
   "name": "python3"
  },
  "language_info": {
   "codemirror_mode": {
    "name": "ipython",
    "version": 3
   },
   "file_extension": ".py",
   "mimetype": "text/x-python",
   "name": "python",
   "nbconvert_exporter": "python",
   "pygments_lexer": "ipython3",
   "version": "3.6.9"
  }
 },
 "nbformat": 4,
 "nbformat_minor": 4
}
