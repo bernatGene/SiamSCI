{
 "cells": [
  {
   "cell_type": "code",
   "execution_count": 9,
   "metadata": {},
   "outputs": [],
   "source": [
    "import os\n",
    "import numpy as np\n",
    "import random as rng\n",
    "import cv2\n",
    "import json\n",
    "import math\n",
    "from scipy.misc import face\n",
    "from scipy.signal.signaltools import wiener\n",
    "import matplotlib.pyplot as plt"
   ]
  },
  {
   "cell_type": "code",
   "execution_count": null,
   "metadata": {},
   "outputs": [],
   "source": [
    "info_data = []\n",
    "with open('/home/data/strips_socrates/dataset_info.json') as json_file: \n",
    "    info_data = json.load(json_file) "
   ]
  },
  {
   "cell_type": "code",
   "execution_count": null,
   "metadata": {},
   "outputs": [],
   "source": [
    "STRIP_SIZE = 256\n",
    "DENOISE_SIGMA = 5"
   ]
  },
  {
   "cell_type": "code",
   "execution_count": 4,
   "metadata": {},
   "outputs": [],
   "source": [
    "def denoise_coefficient_list(coefficient_list, sigma):\n",
    "    ll = coefficient_list[0]\n",
    "    denoised_bands = [ll]\n",
    "    for band, subband_coefficients in enumerate(coefficient_list[1 :]):\n",
    "        denoised_bands.append([wiener(s.astype(np.float), sigma)\n",
    "                               for s in subband_coefficients])\n",
    "    return denoised_bands\n"
   ]
  },
  {
   "cell_type": "code",
   "execution_count": 5,
   "metadata": {},
   "outputs": [],
   "source": [
    "def get_residual(grayscale_matrix):\n",
    "    dyad_length = math.ceil(math.log(STRIP_SIZE, 2))\n",
    "    ll_levels = 5\n",
    "    wavelet_levels = dyad_length - ll_levels\n",
    "    ll_size = 2 ** ll_levels\n",
    "    coefficient_list = pywt.wavedec2(grayscale_matrix,\n",
    "                                       'db8',\n",
    "                                       level = int(wavelet_levels),\n",
    "                                       mode = 'per')\n",
    "    coefficient_list = denoise_coefficient_list(coefficient_list,\n",
    "                                                  DENOISE_SIGMA)\n",
    "    denoised_tile = pywt.waverec2(coefficient_list,\n",
    "                                    'db8',\n",
    "                                    mode = 'per')\n",
    "    denoised_tile[denoised_tile > 255.0] = 255.0\n",
    "    denoised_tile[denoised_tile < 0.0] = 0.0\n",
    "    return (denoised_tile, grayscale_matrix - denoised_tile)\n"
   ]
  },
  {
   "cell_type": "code",
   "execution_count": 6,
   "metadata": {},
   "outputs": [],
   "source": [
    "def get_final(denoised, residual):\n",
    "    numerator = denoised * residual\n",
    "    denominator = denoised * denoised\n",
    "    return(numerator/denominator)"
   ]
  },
  {
   "cell_type": "code",
   "execution_count": null,
   "metadata": {},
   "outputs": [],
   "source": [
    "def get_final_from_path(img_path):\n",
    "    img = cv2.imread(img_path)\n",
    "    gimg = cv2.cvtColor(img, cv2.COLOR_BGR2GRAY)\n",
    "    den, res = get_residual(gimg)\n",
    "    return (get_final(den, res))"
   ]
  },
  {
   "cell_type": "code",
   "execution_count": 33,
   "metadata": {},
   "outputs": [],
   "source": [
    "def normalize_percentile_cut(mat, low, high, q_cut):\n",
    "    low_q = np.percentile(mat, q_cut)\n",
    "    high_q = np.percentile(mat, 100 - q_cut)\n",
    "    mat[mat > high_q] = high_q\n",
    "    mat[mat < low_q] = low_q\n",
    "    cv2.normalize(mat, mat, low, high, cv2.NORM_MINMAX)\n",
    "                  "
   ]
  },
  {
   "cell_type": "code",
   "execution_count": 38,
   "metadata": {},
   "outputs": [],
   "source": [
    "mat_wo_outlier = np.random.rand(50, 50)\n",
    "mat_w_outlier = np.random.rand(50, 50)\n",
    "mat_w_outlier[0,0] = -100\n",
    "mat_w_outlier[0,2] = 100"
   ]
  },
  {
   "cell_type": "code",
   "execution_count": 35,
   "metadata": {},
   "outputs": [],
   "source": [
    "out = np.zeros((50,50))"
   ]
  },
  {
   "cell_type": "code",
   "execution_count": 40,
   "metadata": {},
   "outputs": [],
   "source": [
    "normalize_percentile_cut(mat_w_outlier, 0, 256, 2 )"
   ]
  },
  {
   "cell_type": "code",
   "execution_count": 41,
   "metadata": {},
   "outputs": [
    {
     "data": {
      "text/plain": [
       "array([[  0,   4, 256, ...,  21,  51, 163],\n",
       "       [ 43, 247,  21, ..., 117, 160, 182],\n",
       "       [ 33, 151,  24, ..., 192,  31,   0],\n",
       "       ...,\n",
       "       [184, 185,  64, ...,  48, 208,  29],\n",
       "       [ 47,   1,  53, ...,  41,  53, 171],\n",
       "       [241, 198, 126, ..., 143, 104, 220]])"
      ]
     },
     "execution_count": 41,
     "metadata": {},
     "output_type": "execute_result"
    }
   ],
   "source": [
    "cv2.normalize(mat_w_outlier, out, 0, 256, cv2.NORM_MINMAX).astype(int)"
   ]
  },
  {
   "cell_type": "code",
   "execution_count": null,
   "metadata": {},
   "outputs": [],
   "source": [
    "done = []"
   ]
  },
  {
   "cell_type": "code",
   "execution_count": null,
   "metadata": {},
   "outputs": [],
   "source": [
    "info_data[0][0][0]"
   ]
  },
  {
   "cell_type": "code",
   "execution_count": null,
   "metadata": {},
   "outputs": [],
   "source": [
    "done = []\n",
    "def transform_dataset():\n",
    "    stds = len(info_data)\n",
    "    for i, std in enumerate(info_data):\n",
    "        print(i, \" of \", stds)\n",
    "        for img in std:\n",
    "            for strip in img[1]:\n",
    "                fin = get_final_from_path(strip)\n",
    "                nor\n",
    "                fin = fin.astype(int)\n",
    "                cv2.imwrite(strip, fin)\n",
    "\n",
    "                \n",
    "            "
   ]
  },
  {
   "cell_type": "code",
   "execution_count": null,
   "metadata": {},
   "outputs": [],
   "source": [
    "transform_dataset()"
   ]
  },
  {
   "cell_type": "code",
   "execution_count": null,
   "metadata": {},
   "outputs": [],
   "source": [
    "len(transformed)"
   ]
  },
  {
   "cell_type": "code",
   "execution_count": null,
   "metadata": {},
   "outputs": [],
   "source": [
    "for im in transformed:\n",
    "    plt.figure()\n",
    "    plt.imshow(im)"
   ]
  },
  {
   "cell_type": "code",
   "execution_count": null,
   "metadata": {},
   "outputs": [],
   "source": [
    "im = cv2.imread('/home/data/strips_socrates/101/Eurecom_101_picBG_001_0_0.PNG')\n",
    "im2 = cv2.imread('/home/data/strips_socrates/101/Eurecom_101_picBG_001_0_1024.PNG')\n",
    "plt.imshow(im)"
   ]
  },
  {
   "cell_type": "code",
   "execution_count": null,
   "metadata": {},
   "outputs": [],
   "source": [
    "plt.imshow(im2)"
   ]
  },
  {
   "cell_type": "code",
   "execution_count": null,
   "metadata": {},
   "outputs": [],
   "source": [
    "\n",
    "plt.imshow(im2-im)"
   ]
  },
  {
   "cell_type": "code",
   "execution_count": null,
   "metadata": {},
   "outputs": [],
   "source": []
  }
 ],
 "metadata": {
  "kernelspec": {
   "display_name": "Python 3",
   "language": "python",
   "name": "python3"
  },
  "language_info": {
   "codemirror_mode": {
    "name": "ipython",
    "version": 3
   },
   "file_extension": ".py",
   "mimetype": "text/x-python",
   "name": "python",
   "nbconvert_exporter": "python",
   "pygments_lexer": "ipython3",
   "version": "3.6.9"
  }
 },
 "nbformat": 4,
 "nbformat_minor": 4
}
