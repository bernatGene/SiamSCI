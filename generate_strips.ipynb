{
 "cells": [
  {
   "cell_type": "markdown",
   "metadata": {},
   "source": [
    "# Strips Dataset\n",
    "Script to genenerate a dataset composed of idenitified strips/patches of 256pp from the images from the original socrates dataset.\n"
   ]
  },
  {
   "cell_type": "markdown",
   "metadata": {},
   "source": [
    "### Dataset structure:\n",
    "\n",
    "* student_id1:\n",
    "    * ori_img_name_x_y.png\n",
    "* student_id1:\n",
    "    * ori_img_name_x_y.png\n",
    "* student_id1:\n",
    "    * ori_img_name_x_y.png\n",
    "* ...\n",
    "\n",
    "The Train/Val/Test split will be done afterwards by assigning student id's to each set."
   ]
  },
  {
   "cell_type": "code",
   "execution_count": null,
   "metadata": {},
   "outputs": [],
   "source": [
    "!ls"
   ]
  },
  {
   "cell_type": "raw",
   "metadata": {},
   "source": [
    "ori_datadir = \"/home/data/socrates/\"\n",
    "out_datadir = \"/home/data/strips_socrates\""
   ]
  },
  {
   "cell_type": "code",
   "execution_count": 2,
   "metadata": {},
   "outputs": [],
   "source": [
    "ori_datadir = \"/tf/studprojskrabec/images/SOCRatES_part1\"\n",
    "out_datadir = \"/tf/studprojskrabec/images/strips_socrates\""
   ]
  },
  {
   "cell_type": "code",
   "execution_count": 1,
   "metadata": {},
   "outputs": [],
   "source": [
    "import os\n",
    "import cv2 \n",
    "import numpy as np\n",
    "import glob\n",
    "import matplotlib.pyplot as plt"
   ]
  },
  {
   "cell_type": "code",
   "execution_count": null,
   "metadata": {},
   "outputs": [],
   "source": [
    "test = np.zeros((899, 1456, 3))\n",
    "value = 0\n",
    "for ystrip in range(0, 899, 100):\n",
    "    for xstrip in range(0, 1456, 100):\n",
    "        test[ystrip:ystrip+100, xstrip:xstrip+100, :] = (value % 255) / 255\n",
    "        value += 2\n",
    "plt.imshow(test)\n",
    "    "
   ]
  },
  {
   "cell_type": "code",
   "execution_count": null,
   "metadata": {},
   "outputs": [],
   "source": [
    "h = 899\n",
    "w = 1456\n",
    "num_vstrips = h // 256\n",
    "num_hstrips = w // 256\n",
    "strips = []\n",
    "for x in range(num_hstrips):\n",
    "    x0 = x * 256\n",
    "    x1 = x0 + 256\n",
    "    for y in range(num_vstrips):\n",
    "        y0 = y * 256\n",
    "        y1 = y0 + 256\n",
    "        strip = test[y0:y1, x0:x1, :]\n",
    "        strips.append(((x0,y0), strip))\n",
    "for strip in strips:\n",
    "    plt.figure()\n",
    "    plt.suptitle(str(strip[0]))\n",
    "    plt.imshow(strip[1])"
   ]
  },
  {
   "cell_type": "code",
   "execution_count": null,
   "metadata": {},
   "outputs": [],
   "source": [
    "procssd = 0\n",
    "for img_file in os.scandir(ori_datadir):\n",
    "    procssd += 1\n",
    "    if procssd % 100 == 0:\n",
    "        print(procssd)\n",
    "    student_id = img_file.name.split('_')[1]\n",
    "    if not (img_file.path.endswith('.JPG') or img_file.path.endswith('.jpg')):\n",
    "        print(\"Bad filetype: \", img_file.name)\n",
    "        continue\n",
    "    student_id = img_file.name.split('_')[1]\n",
    "    outdir = os.path.join(out_datadir, student_id)\n",
    "    try:\n",
    "        os.mkdir(outdir)\n",
    "    except OSError as error:\n",
    "        if (error.errno == 17):\n",
    "            pass\n",
    "        else:\n",
    "            print(error)\n",
    "            print(error.errno)\n",
    "    wimg = cv2.imread(img_file.path) \n",
    "    height, width, channels = wimg.shape\n",
    "    num_vstrips = height // 256\n",
    "    num_hstrips = width // 256\n",
    "    for x in range(num_hstrips):\n",
    "        x0 = x * 256\n",
    "        x1 = x0 + 256\n",
    "        for y in range(num_vstrips):\n",
    "            y0 = y * 256\n",
    "            y1 = y0 + 256\n",
    "            strip = wimg[y0:y1, x0:x1, :]\n",
    "            or_name = img_file.name.split('.')[0]\n",
    "            strip_name = or_name + \"_\" + str(x0) + \"_\" + str(y0) + \".PNG\"\n",
    "            cv2.imwrite(os.path.join(outdir, strip_name), strip)"
   ]
  },
  {
   "cell_type": "markdown",
   "metadata": {},
   "source": [
    "### Info file"
   ]
  },
  {
   "cell_type": "code",
   "execution_count": 3,
   "metadata": {},
   "outputs": [],
   "source": [
    "import json"
   ]
  },
  {
   "cell_type": "code",
   "execution_count": null,
   "metadata": {},
   "outputs": [],
   "source": [
    "dataset = []\n",
    "os.remove(os.path.join(out_datadir, 'dataset_info.json'))\n",
    "for student_id in os.scandir(out_datadir):\n",
    "    if student_id.name[0] == '.':\n",
    "        continue\n",
    "    img_strips = {}\n",
    "    for img in os.scandir(student_id):\n",
    "        if img.name[0] == '.':\n",
    "            continue\n",
    "        o_img_name = ('_').join(img.name.split('_')[0:4])\n",
    "        if o_img_name not in img_strips:\n",
    "            img_strips[o_img_name] = [img.path]\n",
    "        else:\n",
    "            img_strips[o_img_name].append(img.path)\n",
    "    for l in img_strips.values():\n",
    "        l.sort()\n",
    "    img_strips_l = [(k, v) for k, v in img_strips.items()] \n",
    "    img_strips_l.sort()\n",
    "    dataset.append(img_strips_l)"
   ]
  },
  {
   "cell_type": "code",
   "execution_count": null,
   "metadata": {},
   "outputs": [],
   "source": [
    "strips = 0\n",
    "images = 0\n",
    "min_strips = 99999\n",
    "min_images = 99999\n",
    "\n",
    "for s in dataset:\n",
    "    images += len(s)\n",
    "    if len(s) < min_images:\n",
    "        min_images = len(s)\n",
    "    for i in s:\n",
    "        strips += len(i[1])\n",
    "        if len(i) < min_strips:\n",
    "            min_strips = len(i)\n",
    "print(images, strips, min_images, min_strips)"
   ]
  },
  {
   "cell_type": "markdown",
   "metadata": {},
   "source": [
    "# THERE are some devices that have images of different sizes!!\n",
    "check where and delete. There was only one, so manually deleted. For future report it was eurecom_104_picFG_0_30"
   ]
  },
  {
   "cell_type": "code",
   "execution_count": 5,
   "metadata": {},
   "outputs": [],
   "source": [
    "strips_std = []\n",
    "for std in dataset:\n",
    "    nstrips = len(std[0][1])\n",
    "    nstripsi = [std[0][0], nstrips]\n",
    "    for im in std:\n",
    "        if len(im[1]) != nstrips:\n",
    "            nstripsi.append(len(im[1]))\n",
    "            std.remove(im)\n",
    "            print(im[0])\n",
    "    strips_std.append(nstripsi)"
   ]
  },
  {
   "cell_type": "code",
   "execution_count": 6,
   "metadata": {},
   "outputs": [
    {
     "data": {
      "text/plain": [
       "[['Eurecom_100_picBG_001', 220],\n",
       " ['Eurecom_101_picBG_001', 220],\n",
       " ['Eurecom_102_picBG_001', 144],\n",
       " ['Eurecom_103_picBG_001', 108],\n",
       " ['Eurecom_104_picBG_001', 220],\n",
       " ['Eurecom_105_picBG_001', 70],\n",
       " ['Eurecom_107_picBG_001', 108],\n",
       " ['Eurecom_108_picBG_001', 108],\n",
       " ['Eurecom_110_picBG_001', 192],\n",
       " ['Eurecom_111_picBG_001', 192]]"
      ]
     },
     "execution_count": 6,
     "metadata": {},
     "output_type": "execute_result"
    }
   ],
   "source": [
    "strips_std"
   ]
  },
  {
   "cell_type": "code",
   "execution_count": null,
   "metadata": {},
   "outputs": [],
   "source": [
    "with open(os.path.join(out_datadir, 'dataset_info.json'), 'w') as f:\n",
    "    json.dump(dataset, f)"
   ]
  },
  {
   "cell_type": "code",
   "execution_count": 4,
   "metadata": {},
   "outputs": [],
   "source": [
    "with open(os.path.join(out_datadir, 'dataset_info.json')) as f:\n",
    "    dataset = json.load(f)"
   ]
  },
  {
   "cell_type": "code",
   "execution_count": null,
   "metadata": {},
   "outputs": [],
   "source": []
  },
  {
   "cell_type": "markdown",
   "metadata": {},
   "source": [
    "###  Visualize some images to ensure correct dataset shape"
   ]
  },
  {
   "cell_type": "code",
   "execution_count": null,
   "metadata": {},
   "outputs": [],
   "source": [
    "test_s = dataset[0]\n",
    "test_img = test_s['Eurecom_101_picFG_013']\n",
    "base_name = ('_').join(test_img[0].split('_')[0:5])\n",
    "plt.figure(figsize=(10,20))\n",
    "for y in range(0, 6):\n",
    "    for x in range(0,4):\n",
    "        strip = cv2.imread(f'{base_name}_{x*256}_{y*256}.PNG')\n",
    "        ax = plt.subplot(6, 4, (y*4+x)+1)\n",
    "        ax.imshow(strip[:,:,::-1])\n",
    "        ax.set_title(f'{x*256}_{y*256}')\n",
    "plt.show()"
   ]
  },
  {
   "cell_type": "code",
   "execution_count": null,
   "metadata": {},
   "outputs": [],
   "source": []
  }
 ],
 "metadata": {
  "kernelspec": {
   "display_name": "Python 3",
   "language": "python",
   "name": "python3"
  },
  "language_info": {
   "codemirror_mode": {
    "name": "ipython",
    "version": 3
   },
   "file_extension": ".py",
   "mimetype": "text/x-python",
   "name": "python",
   "nbconvert_exporter": "python",
   "pygments_lexer": "ipython3",
   "version": "3.6.9"
  }
 },
 "nbformat": 4,
 "nbformat_minor": 4
}
